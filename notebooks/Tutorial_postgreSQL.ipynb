{
 "cells": [
  {
   "cell_type": "markdown",
   "id": "accessory-darkness",
   "metadata": {},
   "source": [
    "## Lux now supports PostgreSQL database (March 2021)"
   ]
  },
  {
   "cell_type": "markdown",
   "id": "relative-fundamentals",
   "metadata": {},
   "source": [
    "In the tutorial, we describe how Lux can be used with data stored in a Postgres database. Postgres is a popular relational databases used by data professionals. By the end of the tutorial, you should be able to: \n",
    "\n",
    "- query data using lux on PostgreSQL backend directly\n",
    "- get lux's recommended visualizations based on selected variables\n",
    "- gain an overview of the data inside your Postgres database\n",
    "- analyze relationships between attributes\n",
    "- create custom visualizations\n",
    "- download your graph and code\n",
    "\n",
    "**Note that SQL support is still experimental and undergoing development. If you are excited about the SQL feature and there is something that you would like to see, please let us know by submitting a [Github Issue here](https://github.com/lux-org/lux/issues/).**"
   ]
  },
  {
   "cell_type": "markdown",
   "id": "radical-bahrain",
   "metadata": {},
   "source": [
    "## A. Setup in 3 steps:\n",
    "- 1) Connect to the database\n",
    "- 2) Create another LuxSQLTable object for multiple tables\n",
    "- 3) Check installed packages"
   ]
  },
  {
   "cell_type": "markdown",
   "id": "african-pharmacology",
   "metadata": {},
   "source": [
    "## 1) Create and connect to the database\n",
    "First, we setup a Postgres database connection, create a LuxSQLtable named ```tbl```, configure the SQL connection, then specify the table we are using in the demo to be ```car```."
   ]
  },
  {
   "cell_type": "code",
   "execution_count": null,
   "id": "significant-declaration",
   "metadata": {},
   "outputs": [],
   "source": [
    "import lux\n",
    "import pandas as pd\n",
    "from sqlalchemy import create_engine\n",
    "import psycopg2\n",
    "\n",
    "connection = psycopg2.connect(\"host=localhost dbname=testdb user=testuser password=testpass\")\n",
    "tbl = lux.LuxSQLTable()\n",
    "lux.config.set_SQL_connection(connection)\n",
    "tbl.set_SQL_table(\"car\")"
   ]
  },
  {
   "cell_type": "markdown",
   "id": "designed-entrance",
   "metadata": {},
   "source": [
    "## 2) Create another LuxSQLTable object for multiple tables\n",
    "To explore multiple datasets at the same time, you simply create another new LuxSQLTable object for lux to operate on and specify its database table name. For example, we created another variable ```sql_tbl2``` by specifiying a new LuxSQLtable with ```lux.LuxSQLTable(table_name=\"college\")```. This way, we can make parallel comparisons of two tables side-by-side."
   ]
  },
  {
   "cell_type": "code",
   "execution_count": null,
   "id": "registered-absorption",
   "metadata": {},
   "outputs": [],
   "source": [
    "sql_tbl2 = lux.LuxSQLTable(table_name=\"college\")\n",
    "sql_tbl2"
   ]
  },
  {
   "cell_type": "markdown",
   "id": "vocational-sixth",
   "metadata": {},
   "source": [
    "## 3) Check installed packages"
   ]
  },
  {
   "cell_type": "markdown",
   "id": "modified-cream",
   "metadata": {},
   "source": [
    "Currently, lux's recommendation capability is expanded to support postgreSQL, so check you have all the installation of necessary packages below."
   ]
  },
  {
   "cell_type": "code",
   "execution_count": null,
   "id": "gross-honduras",
   "metadata": {},
   "outputs": [],
   "source": [
    "import pandas as pd\n",
    "import lux\n",
    "from sqlalchemy import create_engine\n",
    "import psycopg2\n",
    "from lux.vis.Vis import Vis\n",
    "from lux.vis.VisList import VisList"
   ]
  },
  {
   "cell_type": "markdown",
   "id": "serial-peace",
   "metadata": {},
   "source": [
    "Woot! Setup is now complete. Let's explore these datasets using lux."
   ]
  },
  {
   "cell_type": "markdown",
   "id": "dangerous-capability",
   "metadata": {},
   "source": [
    "## B. Explore data in 3 steps:\n",
    "- 1) Preview data table \n",
    "- 2) Get recommended visualizations using lux\n",
    "- 3) Deep dive with intent or Clause\n",
    "- 4) Create a visualization between multiple attributes with Vis or VisList"
   ]
  },
  {
   "cell_type": "markdown",
   "id": "agricultural-updating",
   "metadata": {},
   "source": [
    "## 1) Preview data table "
   ]
  },
  {
   "cell_type": "markdown",
   "id": "democratic-checkout",
   "metadata": {},
   "source": [
    "By printing ```tbl```, you can preview the data table and access the lux toggle. The preview table allows you to view top 5 rows of the dataset.\n",
    "\n",
    "Note: it does not support panda functionalities at the moment."
   ]
  },
  {
   "cell_type": "code",
   "execution_count": null,
   "id": "experimental-member",
   "metadata": {},
   "outputs": [],
   "source": [
    "tbl"
   ]
  },
  {
   "cell_type": "markdown",
   "id": "unusual-helping",
   "metadata": {},
   "source": [
    "## 2) Get recommended visualizations using lux"
   ]
  },
  {
   "cell_type": "markdown",
   "id": "still-supervision",
   "metadata": {},
   "source": [
    "Once you click on the ```Toggle Table/Lux```, you get a set of recommended visualizations. To gain an overall read of the data by category, we click on the ```Occurrence``` tab and see the top counts of records in the dataset by origin of carmaker, number of cylinders in the car, brand of car, and name of car model. \n",
    "\n",
    "We learned in the dataset:\n",
    "- majority of the cars are made by American manufacturers with Japanese and European carmakers coming in close second and third ranking\n",
    "- cars with 4 cylinders are the most popular, followed by 8 and 6\n",
    "- top car brands are ford, chevrolet, and plymouth by count\n",
    "- amc matador, ford pinto, and toyota corolla are the most common car models by count\n",
    "\n",
    "To see the relationship between **two quantitative attributes in a scatterplot**, you can refer to the ```Correlation``` tab, whereas to see the relationship between **two quantitative attributes in an univariate histogram**, you can refer to the ```Distribution```tab."
   ]
  },
  {
   "cell_type": "markdown",
   "id": "downtown-attendance",
   "metadata": {},
   "source": [
    "<img src=\"SQLtutorial_image1.png\">"
   ]
  },
  {
   "cell_type": "markdown",
   "id": "recognized-dublin",
   "metadata": {},
   "source": [
    "## 3) Deep dive with intent\n",
    "\n",
    "With ```Correlation``` tab, we find that ```weight``` and ```milespergal``` are inversely related. As weight of the car increases, its fuel efficiency decreases. We wonder how this relates to origin (country) of carmaker or the number of cylinders the car has, or car brand. As with lux's existing capabilties, you can further select single or multiples attributes and generate different recommended visualizations with ```intent```,```Clause```, ```Vis```, and ```VisList```. Let's start with ```intent```."
   ]
  },
  {
   "cell_type": "code",
   "execution_count": null,
   "id": "separated-jackson",
   "metadata": {},
   "outputs": [],
   "source": [
    "tbl.intent = [\"Weight\"]\n",
    "tbl.intent\n",
    "tbl"
   ]
  },
  {
   "cell_type": "code",
   "execution_count": null,
   "id": "brilliant-chaos",
   "metadata": {},
   "outputs": [],
   "source": [
    "tbl.intent = [\"Weight\",\"MilesPerGal\"]\n",
    "tbl.intent\n",
    "tbl"
   ]
  },
  {
   "cell_type": "markdown",
   "id": "fitting-narrow",
   "metadata": {},
   "source": [
    "We can also compare and contrast each origin country similarities and differences with a selected group of multiple attributes. It turns out Europe and Japan look similar in terms of horsepower, weight, milespergal, acceleration, and concentration on 4-cyclinders-cars. In comparison, America looks pretty different in the aforementioned attributes. With a deep dive by cylinder and brand, we see American cars have more cars equipped with 6 and 8-cylinders and offer more variety of brands to choose from than their European and Japanese counterparts."
   ]
  },
  {
   "cell_type": "code",
   "execution_count": null,
   "id": "light-subdivision",
   "metadata": {},
   "outputs": [],
   "source": [
    "selected_attributes = \"Weight|MilesPerGal|Horsepower|Acceleration|Cylinders|Brand|Year\"\n",
    "tbl.intent = [selected_attributes,\"Origin\"]\n",
    "tbl.intent\n",
    "tbl"
   ]
  },
  {
   "cell_type": "markdown",
   "id": "amino-auckland",
   "metadata": {},
   "source": [
    "Using ```Clause```, we can also deep dive and see the breakdown of ```MilesPerGal``` by comparing the car's country of origin after noticing the gap between the average miles per gallon between American cars, and European and Japanese cars."
   ]
  },
  {
   "cell_type": "code",
   "execution_count": null,
   "id": "seeing-march",
   "metadata": {},
   "outputs": [],
   "source": [
    "tbl.intent = ['MilesPerGal',\n",
    "            lux.Clause(attribute='Origin',filter_op='=', value=['Europe','Japan','USA'])]\n",
    "tbl.intent\n",
    "tbl"
   ]
  },
  {
   "cell_type": "markdown",
   "id": "continuous-olympus",
   "metadata": {},
   "source": [
    "## 4) Create a visualization between multiple attributes with Vis or VisList\n",
    "\n",
    "Using ```Vis``` or ```VisList```, we can create custom visualizations. For example, we might also be interested the distribution of horsepower in the dataset and how it differs by origin (country) of car. With ```Vis```, we specify exactly that we are interested in the distribution of horsepower by counts of records from American carmakers."
   ]
  },
  {
   "cell_type": "code",
   "execution_count": null,
   "id": "advised-liberia",
   "metadata": {},
   "outputs": [],
   "source": [
    "from lux.vis.Vis import Vis\n",
    "intent = [\"Horsepower\"]\n",
    "vis = Vis(intent,tbl)\n",
    "vis"
   ]
  },
  {
   "cell_type": "code",
   "execution_count": null,
   "id": "adolescent-registrar",
   "metadata": {},
   "outputs": [],
   "source": [
    "new_intent = [lux.Clause(\"Horsepower\",bin_size=50),\"Origin=USA\"]\n",
    "vis.set_intent(new_intent)\n",
    "vis"
   ]
  },
  {
   "cell_type": "markdown",
   "id": "varying-parallel",
   "metadata": {},
   "source": [
    "Unsure if there are other relationships of interest with ```Horsepower```, we can use the wildcard \"?\" symbol to examine and create a vis collection of Horsepower with respect to all other attributes. ```VisList``` is helpful to get an overview of relationships between multiple attributes."
   ]
  },
  {
   "cell_type": "code",
   "execution_count": null,
   "id": "vertical-forty",
   "metadata": {},
   "outputs": [],
   "source": [
    "from lux.vis.VisList import VisList\n",
    "vc = VisList([\"Horsepower\",\"?\"],tbl)\n",
    "vc"
   ]
  },
  {
   "cell_type": "markdown",
   "id": "sorted-liechtenstein",
   "metadata": {},
   "source": [
    "Alternatively, we can also specify desired attributes via a ```VisList``` with respect to Horsepower:"
   ]
  },
  {
   "cell_type": "code",
   "execution_count": null,
   "id": "known-fellowship",
   "metadata": {},
   "outputs": [],
   "source": [
    "vc = VisList([\"Horsepower\",['MilesPerGal','Year','Weight','Origin','Cylinders','Name']],tbl)\n",
    "vc"
   ]
  },
  {
   "cell_type": "markdown",
   "id": "offshore-patch",
   "metadata": {},
   "source": [
    "## C. Download data:\n",
    "- Select graph and download visualizations as graph\n",
    "- Save as html, altair, vegalite for further editing or revisions"
   ]
  },
  {
   "cell_type": "markdown",
   "id": "administrative-outline",
   "metadata": {},
   "source": [
    "## Select graph and download visualizations as graph\n",
    "\n"
   ]
  },
  {
   "cell_type": "code",
   "execution_count": null,
   "id": "generous-ranking",
   "metadata": {},
   "outputs": [],
   "source": [
    "vis = tbl.exported[0]\n",
    "vis"
   ]
  },
  {
   "cell_type": "markdown",
   "id": "tender-thanks",
   "metadata": {},
   "source": [
    "## Save as html, altair, vegalite for further editing or revisions"
   ]
  },
  {
   "cell_type": "code",
   "execution_count": null,
   "id": "daily-berkeley",
   "metadata": {},
   "outputs": [],
   "source": [
    "tbl.save_as_html()\n",
    "tbl"
   ]
  },
  {
   "cell_type": "code",
   "execution_count": null,
   "id": "operational-province",
   "metadata": {},
   "outputs": [],
   "source": [
    "tbl1 = vis\n",
    "tbl1"
   ]
  },
  {
   "cell_type": "code",
   "execution_count": null,
   "id": "fluid-discipline",
   "metadata": {},
   "outputs": [],
   "source": [
    "print (tbl1.to_Altair())"
   ]
  },
  {
   "cell_type": "code",
   "execution_count": null,
   "id": "religious-panama",
   "metadata": {},
   "outputs": [],
   "source": [
    "print (tbl1.to_VegaLite())\n"
   ]
  },
  {
   "cell_type": "markdown",
   "id": "portable-trailer",
   "metadata": {},
   "source": [
    "We hope the newly supported Postgres feature helps streamline your data exploration process with Lux. \n",
    "\n",
    "If you have any feedback, please let us know via [Slack](https://communityinviter.com/apps/lux-project/lux) or  [Github](https://github.com/lux-org/lux/issues/)!\n",
    "\n",
    "__For more information:__\n",
    "\n",
    "Other additional resources:\n",
    "\n",
    "- Sign up for the early-user [mailing list](https://forms.gle/XKv3ejrshkCi3FJE6) to stay tuned for upcoming releases, updates, or user studies. \n",
    "- Visit [ReadTheDoc](https://lux-api.readthedocs.io/en/latest/) for more detailed documentation.\n",
    "- Try out these hands-on [exercises](https://mybinder.org/v2/gh/lux-org/lux-binder/master?urlpath=tree/exercise) or [tutorials](https://mybinder.org/v2/gh/lux-org/lux-binder/master?urlpath=tree/tutorial) on [Binder](https://mybinder.org/v2/gh/lux-org/lux-binder/master). Or clone and run [lux-binder](https://github.com/lux-org/lux-binder) locally.\n",
    "- Join our community [Slack](https://communityinviter.com/apps/lux-project/lux) to discuss and ask questions.\n",
    "- Report any bugs, issues, or requests through [Github Issues](https://github.com/lux-org/lux/issues). "
   ]
  },
  {
   "cell_type": "code",
   "execution_count": null,
   "id": "amended-diabetes",
   "metadata": {},
   "outputs": [],
   "source": []
  }
 ],
 "metadata": {
  "kernelspec": {
   "display_name": "Python 3",
   "language": "python",
   "name": "python3"
  },
  "language_info": {
   "codemirror_mode": {
    "name": "ipython",
    "version": 3
   },
   "file_extension": ".py",
   "mimetype": "text/x-python",
   "name": "python",
   "nbconvert_exporter": "python",
   "pygments_lexer": "ipython3",
   "version": "3.9.2"
  }
 },
 "nbformat": 4,
 "nbformat_minor": 5
}
